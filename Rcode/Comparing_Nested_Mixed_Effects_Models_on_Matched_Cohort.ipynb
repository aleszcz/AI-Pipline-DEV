{
  "nbformat": 4,
  "nbformat_minor": 0,
  "metadata": {
    "colab": {
      "provenance": []
    },
    "kernelspec": {
      "name": "python3",
      "display_name": "Python 3"
    },
    "language_info": {
      "name": "python"
    }
  },
  "cells": [
    {
      "cell_type": "markdown",
      "source": [
        "Compering nested matched\n",
        "Comparing Nested Mixed-Effects Models on Matched Cohort\n",
        "This function performs likelihood ratio tests to compare nested mixed-effects logistic regression models (glmer) on a matched dataset created via propensity score matching.\n",
        "\n",
        "Input: create_matched_cohort – a matched dataset.\n",
        "\n",
        "Method:\n",
        "\n",
        "Model 1 (reduced): includes the main exposure (LL_COVID_diagnosis...), age, race, and a random effect for provider (data_partner_id).\n",
        "\n",
        "Model 2 (full): adds clinical and behavioral covariates (e.g., obesity, smoking, diabetes).\n",
        "\n",
        "Test: Likelihood ratio test (anova) compares model fit.\n",
        "\n",
        "Outcomes analyzed:\n",
        "\n",
        "Postpartum depression\n",
        "\n",
        "C-section\n",
        "\n",
        "(Pre)eclampsia\n",
        "\n",
        "Output: A table with chi-squared statistics, degrees of freedom, and p-values indicating whether the full model provides a significantly better fit."
      ],
      "metadata": {
        "id": "-8UxDxaUxh2U"
      }
    },
    {
      "cell_type": "code",
      "source": [
        "\n",
        "\n",
        "library(dplyr)\n",
        "library(lme4)\n",
        "# Compare the nested models\n",
        "# Note that because the interactions are not significant, and we don't report models with interaction, we don't need to compare models with interaction terms\n",
        "\n",
        "compare_nested_models_matched <- function(create_matched_cohort) {\n",
        "\n",
        "    df <- create_matched_cohort\n",
        "\n",
        "    # Function to extract outputs of Likelihood ratio tests\n",
        "    compare_glmer_models_row <- function(data, outcome_var, dv_label = NULL) {\n",
        "  if (is.null(dv_label)) dv_label <- outcome_var\n",
        "\n",
        "  # Model 1 (reduced)\n",
        "  fixed_mod1 <- paste0(\n",
        "    outcome_var, \" ~ LL_COVID_diagnosis_1y_during_1y_prior_to_1st_delivery_indicator + age + race_White + (1 | data_partner_id)\"\n",
        "  )\n",
        "\n",
        "  # Model 2 (full)\n",
        "  fixed_mod2 <- paste0(\n",
        "    outcome_var, \" ~ LL_COVID_diagnosis_1y_during_1y_prior_to_1st_delivery_indicator + age + race_White + \",\n",
        "    \"total_number_of_COVID_vaccine_doses + OBESITY_1y_during_1y_prior_to_1st_delivery_indicator + \",\n",
        "    \"hypertension_1y_during_1y_prior_to_1st_delivery_indicator + chronic_lung_disease_1y_during_1y_prior_to_1st_delivery_indicator + \",\n",
        "    \"tobacco_smoker_1y_during_1y_prior_to_1st_delivery_indicator + diabetes_combined_1y_during_1y_prior_to_1st_delivery_indicator + \",\n",
        "    \"total_visits + (1 | data_partner_id)\"\n",
        "  )\n",
        "\n",
        "  # Fit models\n",
        "  mod1 <- glmer(as.formula(fixed_mod1), data = data, family = binomial)\n",
        "  mod2 <- glmer(as.formula(fixed_mod2), data = data, family = binomial)\n",
        "\n",
        "  # Likelihood ratio test\n",
        "  anova_result <- anova(mod1, mod2, test = \"Chisq\")\n",
        "  df_diff <- anova_result$Df[2] - anova_result$Df[1]\n",
        "  chi_sq <- round(anova_result$Chisq[2], 2)\n",
        "  p_val <- anova_result$`Pr(>Chisq)`[2]\n",
        "  p_val_str <- ifelse(p_val < 0.001, \"< 0.001\", sprintf(\"%.4f\", p_val))\n",
        "\n",
        "  # Return one row\n",
        "  return(data.frame(\n",
        "    dv_label = dv_label,\n",
        "    chi_sq = chi_sq,\n",
        "    df_diff = df_diff,\n",
        "    p_val = p_val,\n",
        "    p_val_str = p_val_str,\n",
        "    stringsAsFactors = FALSE\n",
        "  ))\n",
        "}\n",
        "    # Compare 2 models of postpartum depression\n",
        "    output <- compare_glmer_models_row(data = df, outcome_var = \"postpartum_depression\", dv_label = \"postpartum depression\") %>%\n",
        "    bind_rows(\n",
        "        compare_glmer_models_row(data = df, outcome_var = \"postpartum_csection\", dv_label = \"C-section\")\n",
        "    ) %>%\n",
        "    bind_rows(\n",
        "        compare_glmer_models_row(data = df, outcome_var = \"pre_eclampsia_combined_1y_during_1y_prior_to_1st_delivery_indicator\", dv_label = \"(Pre)eclampsia\")\n",
        "    )\n",
        "\n",
        "    return(output)\n",
        "\n",
        "}"
      ],
      "metadata": {
        "id": "eDbJM9CIxHls"
      },
      "execution_count": null,
      "outputs": []
    }
  ]
}