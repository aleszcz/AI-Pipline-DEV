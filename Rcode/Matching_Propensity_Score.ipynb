{
  "nbformat": 4,
  "nbformat_minor": 0,
  "metadata": {
    "colab": {
      "provenance": []
    },
    "kernelspec": {
      "name": "python3",
      "display_name": "Python 3"
    },
    "language_info": {
      "name": "python"
    }
  },
  "cells": [
    {
      "cell_type": "markdown",
      "source": [
        "# Nearest Neighbor Propensity Score Matching (PSM)\n",
        "This R function create_matched_cohort() uses the MatchIt package to perform 1:1 nearest neighbor matching based on a logistic regression-derived propensity score. The goal is to create a matched cohort for comparing individuals with and without a COVID-19 diagnosis prior to delivery, balancing key baseline characteristics.\n",
        "\n",
        "Input: file_add_bin_age – a data frame with binary/categorical covariates and treatment variable.\n",
        "\n",
        "Method: Logistic regression to estimate propensity scores; nearest neighbor matching (method = \"nearest\", ratio = 1).\n",
        "\n",
        "Covariates: Age, race, vaccine doses, obesity, hypertension, lung disease, smoking, diabetes, and healthcare utilization.\n",
        "\n",
        "Output: A matched dataset and a Love plot showing standardized mean differences before and after matching.\n",
        "\n",
        "It also prints a summary of balance statistics to assess covariate balance post-matching."
      ],
      "metadata": {
        "id": "0a_ClmKwvZqs"
      }
    },
    {
      "cell_type": "markdown",
      "source": [
        "Matching package for Nearest neighbor matching on the propensity score"
      ],
      "metadata": {
        "id": "m29brTtDxM6t"
      }
    },
    {
      "cell_type": "code",
      "source": [
        "# Create matched cohort\n",
        "library(MatchIt)\n",
        "library(cobalt)\n",
        "\n",
        "\n",
        "create_matched_cohort <- function(File_add_bin_age) {\n",
        "    df <- File_add_bin_age\n",
        "\n",
        "    IV <- \"LL_COVID_diagnosis_1y_during_1y_prior_to_1st_delivery_indicator\"\n",
        "\n",
        "    covariates <- c(\n",
        "    \"age\",\n",
        "    \"race_White\",\n",
        "    \"total_number_of_COVID_vaccine_doses\",\n",
        "    \"OBESITY_1y_during_1y_prior_to_1st_delivery_indicator\",\n",
        "    \"hypertension_1y_during_1y_prior_to_1st_delivery_indicator\",\n",
        "    \"chronic_lung_disease_1y_during_1y_prior_to_1st_delivery_indicator\",\n",
        "    \"tobacco_smoker_1y_during_1y_prior_to_1st_delivery_indicator\",\n",
        "    \"diabetes_combined_1y_during_1y_prior_to_1st_delivery_indicator\",\n",
        "    \"total_visits\"\n",
        "    )\n",
        "\n",
        "    # Create formula for propensity score model\n",
        "    ps_formula <- as.formula(paste(IV, \"~\", paste(covariates, collapse = \" + \")))\n",
        "\n",
        "    # Nearest neighbor matching on the propensity score\n",
        "    match_out <- matchit(\n",
        "        formula = ps_formula,\n",
        "        data = df,\n",
        "        method = \"nearest\",   # for 1:1 PSM\n",
        "        distance = \"logit\",   # logistic model for PS\n",
        "        ratio = 1             # 1:1 matching\n",
        "    )\n",
        "\n",
        "    matched_df <- match.data(match_out)\n",
        "\n",
        "    # Love plot\n",
        "    # Custom covariate labels for love plot\n",
        "    var_labels <- c(\n",
        "        age = \"Age\",\n",
        "        race_White = \"White Race\",\n",
        "        total_number_of_COVID_vaccine_doses = \"Respiratory\\nDisease\\nVaccine Doses\",\n",
        "        OBESITY_1y_during_1y_prior_to_1st_delivery_indicator = \"Obesity\",\n",
        "        hypertension_1y_during_1y_prior_to_1st_delivery_indicator = \"Hypertension\",\n",
        "        chronic_lung_disease_1y_during_1y_prior_to_1st_delivery_indicator = \"Chronic\\nLung Disease\",\n",
        "        tobacco_smoker_1y_during_1y_prior_to_1st_delivery_indicator = \"Tobacco Use\",\n",
        "        diabetes_combined_1y_during_1y_prior_to_1st_delivery_indicator = \"Diabetes\",\n",
        "        total_visits = \"Total Visits\"\n",
        "    )\n",
        "\n",
        "    # Love plot with custom labels and increased font/dot sizes\n",
        "    love_plot <- love.plot(\n",
        "        match_out,\n",
        "        binary = \"std\",\n",
        "        threshold = 0.1,\n",
        "        var.names = var_labels,\n",
        "        abs = TRUE,\n",
        "        size = 7\n",
        "    ) +\n",
        "    theme_bw(base_size = 18) +\n",
        "    theme(\n",
        "        legend.position = \"right\",\n",
        "        legend.title = element_text(size = 22),\n",
        "        legend.text = element_text(size = 20),\n",
        "        axis.title = element_text(size = 22),\n",
        "        axis.title.y = element_text(size = 20),\n",
        "        axis.text.x = element_text(size = 20),\n",
        "        axis.text.y = element_text(size = 20)\n",
        "    ) +\n",
        "    scale_x_continuous(\n",
        "        breaks = seq(0, 1, by = 0.1),\n",
        "        limits = c(0, 1)\n",
        "    ) +\n",
        "    geom_vline(\n",
        "        xintercept = 0.1,\n",
        "        linetype = \"dashed\",\n",
        "        color = \"darkblue\",\n",
        "        linewidth = 1.2\n",
        "    ) +\n",
        "    guides(color = guide_legend(override.aes = list(size = 6)))\n",
        "\n",
        "\n",
        "    print(love_plot)\n",
        "\n",
        "    # Print the matching results\n",
        "    print(summary(match_out))\n",
        "\n",
        "    return(matched_df)\n",
        "\n",
        "}"
      ],
      "metadata": {
        "id": "kUDIF6DCxD68"
      },
      "execution_count": null,
      "outputs": []
    }
  ]
}